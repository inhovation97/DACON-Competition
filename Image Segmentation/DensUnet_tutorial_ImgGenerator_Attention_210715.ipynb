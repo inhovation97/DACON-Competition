{
  "nbformat": 4,
  "nbformat_minor": 0,
  "metadata": {
    "colab": {
      "name": "DensUnet_tutorial_ImgGenerator_Attention_210715.ipynb",
      "provenance": [],
      "collapsed_sections": [],
      "include_colab_link": true
    },
    "kernelspec": {
      "name": "python3",
      "display_name": "Python 3"
    },
    "accelerator": "GPU"
  },
  "cells": [
    {
      "cell_type": "markdown",
      "metadata": {
        "id": "view-in-github",
        "colab_type": "text"
      },
      "source": [
        "<a href=\"https://colab.research.google.com/github/inhovation97/DACON-Competition/blob/main/Image%20Segmentation/DensUnet_tutorial_ImgGenerator_Attention_210715.ipynb\" target=\"_parent\"><img src=\"https://colab.research.google.com/assets/colab-badge.svg\" alt=\"Open In Colab\"/></a>"
      ]
    },
    {
      "cell_type": "code",
      "metadata": {
        "id": "gdW_UBMK7au8",
        "colab": {
          "base_uri": "https://localhost:8080/"
        },
        "outputId": "acf442b9-1f31-4767-e5c8-d15af9715f5e"
      },
      "source": [
        "%tensorflow_version 1.x"
      ],
      "execution_count": null,
      "outputs": [
        {
          "output_type": "stream",
          "text": [
            "TensorFlow 1.x selected.\n"
          ],
          "name": "stdout"
        }
      ]
    },
    {
      "cell_type": "code",
      "metadata": {
        "id": "bdeDl5HO0QsY",
        "colab": {
          "base_uri": "https://localhost:8080/"
        },
        "outputId": "fd1b4aa0-0409-46df-9c77-87cae9ce9738"
      },
      "source": [
        "import numpy as np\n",
        "import matplotlib.pyplot as plt\n",
        "import os\n",
        "from PIL import Image\n",
        "import keras\n",
        "from keras.models import Model\n",
        "from keras.layers import Conv2D, MaxPooling2D, Input, Conv2DTranspose, Concatenate, BatchNormalization, UpSampling2D\n",
        "from keras.layers import  Dropout, Activation\n",
        "from keras.optimizers import Adam, SGD\n",
        "from keras.layers.advanced_activations import LeakyReLU\n",
        "from keras.callbacks import ModelCheckpoint, ReduceLROnPlateau, EarlyStopping\n",
        "from keras import backend as K\n",
        "from keras.utils import plot_model\n",
        "import tensorflow as tf\n",
        "import glob\n",
        "import random\n",
        "import cv2\n",
        "from random import shuffle"
      ],
      "execution_count": null,
      "outputs": [
        {
          "output_type": "stream",
          "text": [
            "Using TensorFlow backend.\n"
          ],
          "name": "stderr"
        }
      ]
    },
    {
      "cell_type": "markdown",
      "metadata": {
        "id": "aOpRsS-TzhRg"
      },
      "source": [
        "# Dataset\n",
        "\n",
        "We will use the The Oxford-IIIT Pet Dataset. It contains 37 classes of dogs and cats with around 200 images per each class. The dataset contains labels as bounding boxes and segmentation masks. The total number of images in the dataset is a little more than 7K. \n",
        "\n",
        "![alt text](http://www.robots.ox.ac.uk/~vgg/data/pets/pet_annotations.jpg)\n",
        "\n",
        "Download the images/masks and unzip the files "
      ]
    },
    {
      "cell_type": "code",
      "metadata": {
        "id": "nuR1xDbQjHj3"
      },
      "source": [
        "!wget http://www.robots.ox.ac.uk/~vgg/data/pets/data/images.tar.gz\n",
        "!wget http://www.robots.ox.ac.uk/~vgg/data/pets/data/annotations.tar.gz\n",
        "!tar -xvzf images.tar.gz && tar -xvzf annotations.tar.gz\n",
        "!rm  images/*.mat"
      ],
      "execution_count": null,
      "outputs": []
    },
    {
      "cell_type": "markdown",
      "metadata": {
        "id": "gF9UZdcr0Xkq"
      },
      "source": [
        "Note that we have two foulders. The first one is `images` which contains the raw images and annotation which contains the masks as a `binary` foulder image."
      ]
    },
    {
      "cell_type": "markdown",
      "metadata": {
        "id": "tavQ2-MJ0x9E"
      },
      "source": [
        "# Generators"
      ]
    },
    {
      "cell_type": "code",
      "metadata": {
        "id": "WCQg55WS9exZ"
      },
      "source": [
        "import random\n",
        "\n",
        "def image_generator2(files, batch_size=32, sz=(256,256)):\n",
        "  n_samples = len(files)\n",
        "  n_batches = n_samples // batch_size\n",
        "  indecis = list(np.arange(n_samples))\n",
        "\n",
        "  while True:\n",
        "    random.shuffle(files)\n",
        "    for i in range(n_batches):\n",
        "      paths = files[i*batch_size:i*batch_size+batch_size]\n",
        "      batch_x = []\n",
        "      batch_y = []\n",
        "\n",
        "      for f in paths:\n",
        "          #get the masks. Note that masks are png files \n",
        "          # Image -> Random -> Read -> Resize (256, 256)\n",
        "          # path = 'annotations/trimaps/{}.png'.format(f[:-4])\n",
        "          mask = Image.open(f'annotations/trimaps/{f[:-4]}.png')\n",
        "          mask = np.array(mask.resize(sz))\n",
        "          \n",
        "          #preprocess the binary mask \n",
        "          mask[mask >= 2] = 0 \n",
        "          mask[mask != 0 ] = 1\n",
        "          \n",
        "          batch_y.append(mask)\n",
        "\n",
        "          #preprocess the raw images \n",
        "          raw = Image.open(f'images/{f}')\n",
        "          raw = raw.resize(sz)\n",
        "          raw = np.array(raw)\n",
        "\n",
        "          #check the number of channels because some of the images are RGBA or GRAY\n",
        "          # if GRAY (256, 256) --> Length of Tuple ? 2\n",
        "          # elif Color (256, 256, 3) --> Length of Tuple ? 3\n",
        "          #  GRAY ? Color\n",
        "          # 4D tensor (b, h, w, c)\n",
        "          if len(raw.shape) == 2:\n",
        "            raw = np.stack((raw,)*3, axis=-1)\n",
        "\n",
        "          else:\n",
        "            raw = raw[:,:,0:3]\n",
        "\n",
        "          batch_x.append(raw)\n",
        "\n",
        "      #preprocess a batch of images and masks \n",
        "      batch_x = np.array(batch_x)/255.\n",
        "      batch_y = np.array(batch_y)\n",
        "      # (32, 256, 256)\n",
        "      batch_y = np.expand_dims(batch_y,-1)\n",
        "      # (32, 256, 256, 1)\n",
        "\n",
        "      yield (batch_x, batch_y) \n"
      ],
      "execution_count": null,
      "outputs": []
    },
    {
      "cell_type": "code",
      "metadata": {
        "id": "oVMYVyjkDweJ"
      },
      "source": [
        "batch_size = 32\n",
        "\n",
        "all_files = os.listdir('images')\n",
        "# get all files in images folder\n",
        "# list \n",
        "shuffle(all_files)\n",
        "\n",
        "# len(all_files) -> N? \n",
        "# 0.95 -> training, 0.05 --> Validation\n",
        "split = int(0.95 * len(all_files))\n",
        "\n",
        "#split into training and testing\n",
        "train_files = all_files[0:split]\n",
        "test_files  = all_files[split:]\n",
        "\n",
        "train_generator = image_generator2(train_files, batch_size = batch_size)\n",
        "test_generator  = image_generator2(test_files, batch_size = batch_size)"
      ],
      "execution_count": null,
      "outputs": []
    },
    {
      "cell_type": "code",
      "metadata": {
        "colab": {
          "base_uri": "https://localhost:8080/"
        },
        "id": "wJrV3szpGjL3",
        "outputId": "4a84cbc3-90e6-401f-bde3-e514f07c1fb8"
      },
      "source": [
        "x, y= next(train_generator)\n",
        "print (x.shape, y.shape)"
      ],
      "execution_count": null,
      "outputs": [
        {
          "output_type": "stream",
          "text": [
            "(32, 256, 256, 3) (32, 256, 256, 1)\n"
          ],
          "name": "stdout"
        }
      ]
    },
    {
      "cell_type": "code",
      "metadata": {
        "id": "P8tq55g677wp"
      },
      "source": [
        "# Numpy N-dims Array X\n",
        "# image, image -> 4D tensor (B, H, W, C) or (B, C, H, W)\n",
        "# Image_generator\n",
        "#  U-Net Input 2*n\n",
        "def image_generator(files, batch_size = 32, sz = (256, 256)):\n",
        "\n",
        "  while True: \n",
        "    \n",
        "    # image file 중 32장을 랜덤하게 골라라\n",
        "    # 32개의 index를 뽑아 줍니다. \n",
        "    batch = np.random.choice(files, size = batch_size)\n",
        "\n",
        "    # list for Image, Mask\n",
        "    batch_x = []\n",
        "    batch_y = []\n",
        "    \n",
        "    # batch -> list\n",
        "    for f in batch:\n",
        "        #get the masks. Note that masks are png files \n",
        "        # Image -> Random -> Read -> Resize (256, 256)\n",
        "        # path = 'annotations/trimaps/{}.png'.format(f[:-4])\n",
        "        mask = Image.open(f'annotations/trimaps/{f[:-4]}.png')\n",
        "        mask = np.array(mask.resize(sz))\n",
        "        \n",
        "        #preprocess the binary mask \n",
        "        mask[mask >= 2] = 0 \n",
        "        mask[mask != 0 ] = 1\n",
        "        \n",
        "        batch_y.append(mask)\n",
        "\n",
        "        #preprocess the raw images \n",
        "        raw = Image.open(f'images/{f}')\n",
        "        raw = raw.resize(sz)\n",
        "        raw = np.array(raw)\n",
        "\n",
        "        #check the number of channels because some of the images are RGBA or GRAY\n",
        "        # if GRAY (256, 256) --> Length of Tuple ? 2\n",
        "        # elif Color (256, 256, 3) --> Length of Tuple ? 3\n",
        "        #  GRAY ? Color\n",
        "        # 4D tensor (b, h, w, c)\n",
        "        if len(raw.shape) == 2:\n",
        "          raw = np.stack((raw,)*3, axis=-1)\n",
        "\n",
        "        else:\n",
        "          raw = raw[:,:,0:3]\n",
        "\n",
        "        batch_x.append(raw)\n",
        "\n",
        "    #preprocess a batch of images and masks \n",
        "    batch_x = np.array(batch_x)/255.\n",
        "    batch_y = np.array(batch_y)\n",
        "    # (32, 256, 256)\n",
        "    batch_y = np.expand_dims(batch_y,-1)\n",
        "    # (32, 256, 256, 1)\n",
        "\n",
        "    yield (batch_x, batch_y)    \n",
        "    \n",
        "    # batch_x: 32, 256, 256, 3\n",
        "    # batch_y: 32, 256, 256, 1 "
      ],
      "execution_count": null,
      "outputs": []
    },
    {
      "cell_type": "code",
      "metadata": {
        "id": "PvwbmS-YTHEZ"
      },
      "source": [
        "batch_size = 32\n",
        "\n",
        "all_files = os.listdir('images')\n",
        "# get all files in images folder\n",
        "# list \n",
        "shuffle(all_files)\n",
        "\n",
        "# len(all_files) -> N? \n",
        "# 0.95 -> training, 0.05 --> Validation\n",
        "split = int(0.95 * len(all_files))\n",
        "\n",
        "#split into training and testing\n",
        "train_files = all_files[0:split]\n",
        "test_files  = all_files[split:]\n",
        "\n",
        "train_generator = image_generator(train_files, batch_size = batch_size)\n",
        "test_generator  = image_generator(test_files, batch_size = batch_size)"
      ],
      "execution_count": null,
      "outputs": []
    },
    {
      "cell_type": "code",
      "metadata": {
        "id": "yn_bdWgIuRHD"
      },
      "source": [
        "x, y= next(train_generator)"
      ],
      "execution_count": null,
      "outputs": []
    },
    {
      "cell_type": "code",
      "metadata": {
        "id": "J0oX81TGE6by",
        "colab": {
          "base_uri": "https://localhost:8080/"
        },
        "outputId": "7aabf827-79f4-49ea-8ef3-7fc3c8bbee22"
      },
      "source": [
        "print (x.shape, y.shape)"
      ],
      "execution_count": null,
      "outputs": [
        {
          "output_type": "stream",
          "text": [
            "(32, 256, 256, 3) (32, 256, 256, 1)\n"
          ],
          "name": "stdout"
        }
      ]
    },
    {
      "cell_type": "code",
      "metadata": {
        "id": "jnuNW20FeupL",
        "colab": {
          "base_uri": "https://localhost:8080/",
          "height": 160
        },
        "outputId": "aff24d89-9c9b-420f-dacf-0419f974ec92"
      },
      "source": [
        "plt.axis('off')\n",
        "img = x[0]\n",
        "# (256, 256, 3)\n",
        "msk = y[0].squeeze()\n",
        "# (256, 256, 1) --> (256, 256)\n",
        "\n",
        "msk = np.stack((msk,)*3, axis=-1)\n",
        "# Image (256, 256, 3) * Mask (256, 256, 3)\n",
        "\n",
        "plt.imshow( np.concatenate([img, msk, img*msk], axis = 1))"
      ],
      "execution_count": null,
      "outputs": [
        {
          "output_type": "execute_result",
          "data": {
            "text/plain": [
              "<matplotlib.image.AxesImage at 0x7f1815c47b10>"
            ]
          },
          "metadata": {
            "tags": []
          },
          "execution_count": 10
        },
        {
          "output_type": "display_data",
          "data": {
            "image/png": "[encoded data removed]",
            "text/plain": [
              "<Figure size 432x288 with 1 Axes>"
            ]
          },
          "metadata": {
            "tags": [],
            "needs_background": "light"
          }
        }
      ]
    },
    {
      "cell_type": "markdown",
      "metadata": {
        "id": "raXLOfBk1pLV"
      },
      "source": [
        "# IoU metric\n",
        "\n",
        "The intersection over union (IoU) metric is a simple metric used to evaluate the performance of a segmentation algorithm. Given two masks $y_{true}, y_{pred}$ we evaluate \n",
        "\n",
        "$$IoU = \\frac{y_{true} \\cap y_{pred}}{y_{true} \\cup y_{pred}}$$"
      ]
    },
    {
      "cell_type": "code",
      "metadata": {
        "id": "xJLriYXX1oZU"
      },
      "source": [
        "def mean_iou(y_true, y_pred):\n",
        "    yt0 = y_true[:,:,:,0]\n",
        "    yp0 = K.cast(y_pred[:,:,:,0] > 0.5, 'float32')\n",
        "    inter = tf.count_nonzero(tf.logical_and(tf.equal(yt0, 1), tf.equal(yp0, 1)))\n",
        "    union = tf.count_nonzero(tf.add(yt0, yp0))\n",
        "    iou = tf.where(tf.equal(union, 0), 1., tf.cast(inter/union, 'float32'))\n",
        "    return iou"
      ],
      "execution_count": null,
      "outputs": []
    },
    {
      "cell_type": "code",
      "metadata": {
        "id": "oedPryVG739T"
      },
      "source": [
        "from keras.losses import binary_crossentropy\n",
        "\n",
        "def dice_coef(y_true, y_pred, smooth=0.00001):\n",
        "    y_true_f = K.flatten(y_true)\n",
        "    y_pred_f = K.flatten(y_pred)\n",
        "    intersection = K.sum(y_true_f * y_pred_f)\n",
        "    return (2. * intersection + smooth) / (K.sum(y_true_f) + K.sum(y_pred_f) + smooth)\n",
        "\n",
        "def dice_loss(y_true, y_pred):\n",
        "    smooth = 0.00001\n",
        "    y_pred = K.cast(y_pred[:,:,:,0] > 0.5, 'float32')\n",
        "    y_true_f = K.flatten(y_true)\n",
        "    y_pred_f = K.flatten(y_pred)\n",
        "    intersection = y_true_f * y_pred_f\n",
        "    score = (2. * K.sum(intersection) + smooth) / (K.sum(y_true_f) + K.sum(y_pred_f) + smooth)\n",
        "    return 1. - score\n",
        "\n",
        "def bce_dice_loss(y_true, y_pred):\n",
        "    return binary_crossentropy(y_true, y_pred) + dice_loss(y_true, y_pred) "
      ],
      "execution_count": null,
      "outputs": []
    },
    {
      "cell_type": "markdown",
      "metadata": {
        "id": "160g6Ex41r-2"
      },
      "source": [
        "# Model"
      ]
    },
    {
      "cell_type": "code",
      "metadata": {
        "id": "4UzRJ9IZ21Qd"
      },
      "source": [
        "def conv_block(x, nkernels):\n",
        "  x = BatchNormalization()(x)\n",
        "  x = Activation('relu')(x)\n",
        "  x = Conv2D(nkernels, (3,3), kernel_initializer='he_normal', use_bias=False, padding='same') (x)\n",
        "  \n",
        "  return x"
      ],
      "execution_count": null,
      "outputs": []
    },
    {
      "cell_type": "code",
      "metadata": {
        "id": "70ECueSxhfqT"
      },
      "source": [
        "def residual_block(x, nkernels):\n",
        "  identity = x\n",
        "\n",
        "  x = conv_block(x, nkernels)\n",
        "  x = conv_block(x, nkernels)\n",
        "  \n",
        "  return keras.layers.Add()([x + identity])"
      ],
      "execution_count": null,
      "outputs": []
    },
    {
      "cell_type": "code",
      "metadata": {
        "id": "THNIB55bjJv7"
      },
      "source": [
        "def dense_block(x0, growth_rate=4):\n",
        "\n",
        "  x1 = conv_block(x0, growth_rate)\n",
        "  x1c = Concatenate(axis=-1)([x0, x1])\n",
        "\n",
        "  x2 = conv_block(x1c, growth_rate)\n",
        "  x2c = Concatenate(axis=-1)([x0, x1, x2])\n",
        "\n",
        "  x3 = conv_block(x2c, growth_rate)\n",
        "  x3c = Concatenate(axis=-1)([x0, x1, x2, x3])\n",
        "\n",
        "  x4 = conv_block(x3c, growth_rate)\n",
        "  x4c = Concatenate(axis=-1)([x0, x1, x2, x3, x4])\n",
        "\n",
        "  # Transition Layer\n",
        "  ouput = Conv2D(growth_rate, (1,1), kernel_initializer='he_normal', padding='same') (x4c)\n",
        "\n",
        "  return ouput"
      ],
      "execution_count": null,
      "outputs": []
    },
    {
      "cell_type": "code",
      "metadata": {
        "id": "0NpPdG78TkIG"
      },
      "source": [
        "def spatial_attention_block(x0):\n",
        "  x1 = x0\n",
        "  x1 = Conv2D(1, (1,1), padding='same') (x1)\n",
        "  x1 = Activation('sigmoid')(x1)\n",
        "  return keras.layers.Multiply()([x0, x1])"
      ],
      "execution_count": null,
      "outputs": []
    },
    {
      "cell_type": "code",
      "metadata": {
        "id": "4ESVMPi2ORyr"
      },
      "source": [
        "def squeeze_and_excitation_block(x0, ratio=16):\n",
        "  n_channel = int(x0.shape[-1])\n",
        "  x1 = x0\n",
        "  x1 = keras.layers.GlobalAveragePooling2D()(x1)\n",
        "  x1 = keras.layers.Reshape((1,1,n_channel))(x1)\n",
        "  x1 = keras.layers.Dense(n_channel//ratio)(x1)\n",
        "  x1 = Activation('relu')(x1)\n",
        "  x1 = keras.layers.Dense(n_channel)(x1)\n",
        "  x1 = Activation('sigmoid')(x1)\n",
        "\n",
        "  return keras.layers.Multiply()([x0, x1])\n"
      ],
      "execution_count": null,
      "outputs": []
    },
    {
      "cell_type": "code",
      "metadata": {
        "id": "hONrrUbW9CM_"
      },
      "source": [
        "def unet(sz = (256, 256, 3)):\n",
        "  x = Input(sz)\n",
        "  inputs = x\n",
        "  \n",
        "  #down sampling \n",
        "  nkernels = 64 \n",
        "  growth_rate = 4\n",
        "  # number of output feature\n",
        "\n",
        "  # encoding\n",
        "  encoded = conv_block(x, 64)\n",
        "  # residual block\n",
        "  # 256, 256, 64\n",
        "  layer11 = dense_block(encoded, 4)\n",
        "  layer11 = squeeze_and_excitation_block(layer11, ratio=2)\n",
        "  layer11 = spatial_attention_block(layer11)\n",
        "  # 256, 256, 4\n",
        "  layer12 = MaxPooling2D()(layer11)\n",
        "  # 128, 128, 4\n",
        "\n",
        "  layer21 = dense_block(layer12, 4)\n",
        "  layer21 = squeeze_and_excitation_block(layer21, ratio=2)\n",
        "  layer22 = MaxPooling2D()(layer21)\n",
        "\n",
        "  layer31 = dense_block(layer22, 4)\n",
        "  layer31 = squeeze_and_excitation_block(layer31, ratio=2)\n",
        "  layer32 = MaxPooling2D()(layer31)\n",
        "\n",
        "  layer41 = dense_block(layer32, 4)\n",
        "  layer41 = squeeze_and_excitation_block(layer41, ratio=2)\n",
        "  layer42 = MaxPooling2D()(layer41)\n",
        "\n",
        "  Bottleneck1 = Conv2D(128, (3,3), activation='relu', padding='same')(layer42)\n",
        "  Bottleneck1 = squeeze_and_excitation_block(Bottleneck1, ratio=2)\n",
        "  Bottleneck2 = Conv2D(64, (3,3), activation='relu', padding='same')(Bottleneck1)\n",
        "\n",
        "  layer42up = UpSampling2D()(Bottleneck2)\n",
        "  layer43 = Concatenate(axis=-1)([layer41, layer42up])\n",
        "  layer44 = dense_block(layer43, 4)\n",
        "  layer44 = squeeze_and_excitation_block(layer44, ratio=2)\n",
        "\n",
        "\n",
        "  layer45up = UpSampling2D()(layer44)\n",
        "  layer33 = Concatenate(axis=-1)([layer31, layer45up])\n",
        "  layer34 = dense_block(layer33, 4)\n",
        "  layer34 = squeeze_and_excitation_block(layer34, ratio=2)\n",
        "\n",
        "  layer35up = UpSampling2D()(layer34)\n",
        "  layer23 = Concatenate(axis=-1)([layer21, layer35up])\n",
        "  layer24 = dense_block(layer23, 4)\n",
        "  layer24 = squeeze_and_excitation_block(layer24, ratio=2)\n",
        "\n",
        "  layer25up = UpSampling2D()(layer24)\n",
        "  layer13 = Concatenate(axis=-1)([layer11, layer25up])\n",
        "  layer14 = dense_block(layer13, 4)\n",
        "  layer14 = squeeze_and_excitation_block(layer14, ratio=2)\n",
        "\n",
        "  last = Conv2D(1, (3,3), activation='relu', padding='same')(layer14)\n",
        "\n",
        "  #model creation \n",
        "  model = Model(inputs=[inputs], outputs=[last])\n",
        "  model.compile(optimizer = 'rmsprop', loss = bce_dice_loss, metrics = [mean_iou])\n",
        "  \n",
        "  return model"
      ],
      "execution_count": null,
      "outputs": []
    },
    {
      "cell_type": "code",
      "metadata": {
        "id": "67Fyeczk_zzh"
      },
      "source": [
        "model = unet()"
      ],
      "execution_count": null,
      "outputs": []
    },
    {
      "cell_type": "markdown",
      "metadata": {
        "id": "t7QY8rgO1zUU"
      },
      "source": [
        "# Callbacks\n",
        "\n",
        "Simple functions to save the model at each epoch and show some predictions "
      ]
    },
    {
      "cell_type": "code",
      "metadata": {
        "id": "xfqXmNuc9lWZ"
      },
      "source": [
        "def build_callbacks():\n",
        "        checkpointer = ModelCheckpoint(filepath='unet.h5', verbose=0, save_best_only=True, save_weights_only=True)\n",
        "        callbacks = [checkpointer, PlotLearning()]\n",
        "        return callbacks\n",
        "\n",
        "# inheritance for training process plot \n",
        "class PlotLearning(keras.callbacks.Callback):\n",
        "\n",
        "    def on_train_begin(self, logs={}):\n",
        "        self.i = 0\n",
        "        self.x = []\n",
        "        self.losses = []\n",
        "        self.val_losses = []\n",
        "        self.acc = []\n",
        "        self.val_acc = []\n",
        "        #self.fig = plt.figure()\n",
        "        self.logs = []\n",
        "    def on_epoch_end(self, epoch, logs={}):\n",
        "        self.logs.append(logs)\n",
        "        self.x.append(self.i)\n",
        "        self.losses.append(logs.get('loss'))\n",
        "        self.val_losses.append(logs.get('val_loss'))\n",
        "        self.acc.append(logs.get('mean_iou'))\n",
        "        self.val_acc.append(logs.get('val_mean_iou'))\n",
        "        self.i += 1\n",
        "        print('i=',self.i,'loss=',logs.get('loss'),'val_loss=',logs.get('val_loss'),'mean_iou=',logs.get('mean_iou'),'val_mean_iou=',logs.get('val_mean_iou'))\n",
        "        \n",
        "        #choose a random test image and preprocess\n",
        "        path = np.random.choice(test_files)\n",
        "        raw = Image.open(f'images/{path}')\n",
        "        raw = np.array(raw.resize((256, 256)))/255.\n",
        "        raw = raw[:,:,0:3]\n",
        "        \n",
        "        #predict the mask \n",
        "        pred = model.predict(np.expand_dims(raw, 0))\n",
        "        \n",
        "        #mask post-processing \n",
        "        msk  = pred.squeeze()\n",
        "        msk = np.stack((msk,)*3, axis=-1)\n",
        "        msk[msk >= 0.5] = 1 \n",
        "        msk[msk < 0.5] = 0 \n",
        "        \n",
        "        #show the mask and the segmented image \n",
        "        combined = np.concatenate([raw, msk, raw* msk], axis = 1)\n",
        "        plt.axis('off')\n",
        "        plt.imshow(combined)\n",
        "        plt.show()"
      ],
      "execution_count": null,
      "outputs": []
    },
    {
      "cell_type": "markdown",
      "metadata": {
        "id": "sU6SPuVY8Mdc"
      },
      "source": [
        "# Training"
      ]
    },
    {
      "cell_type": "code",
      "metadata": {
        "id": "_MXGinNg9Wjj"
      },
      "source": [
        "train_steps = len(train_files) //batch_size\n",
        "test_steps = len(test_files) //batch_size\n",
        "model.fit_generator(train_generator, \n",
        "                    epochs = 30, steps_per_epoch = train_steps,validation_data = test_generator, validation_steps = test_steps,\n",
        "                    callbacks = build_callbacks(), verbose = 0)"
      ],
      "execution_count": null,
      "outputs": []
    },
    {
      "cell_type": "markdown",
      "metadata": {
        "id": "0O5zCKBr8OZ1"
      },
      "source": [
        "# Testing"
      ]
    },
    {
      "cell_type": "code",
      "metadata": {
        "id": "ld3st_p38fv9",
        "colab": {
          "base_uri": "https://localhost:8080/"
        },
        "outputId": "c261ab48-75dc-4180-9daa-3936e270aa8f"
      },
      "source": [
        "!wget http://r.ddmcdn.com/s_f/o_1/cx_462/cy_245/cw_1349/ch_1349/w_720/APL/uploads/2015/06/caturday-shutterstock_149320799.jpg -O test.jpg"
      ],
      "execution_count": null,
      "outputs": [
        {
          "output_type": "stream",
          "text": [
            "--2021-07-14 13:22:48--  http://r.ddmcdn.com/s_f/o_1/cx_462/cy_245/cw_1349/ch_1349/w_720/APL/uploads/2015/06/caturday-shutterstock_149320799.jpg\n",
            "Resolving r.ddmcdn.com (r.ddmcdn.com)... 99.86.116.62, 99.86.116.20, 99.86.116.81, ...\n",
            "Connecting to r.ddmcdn.com (r.ddmcdn.com)|99.86.116.62|:80... connected.\n",
            "HTTP request sent, awaiting response... 200 OK\n",
            "Length: 63219 (62K) [image/jpeg]\n",
            "Saving to: ‘test.jpg’\n",
            "\n",
            "\rtest.jpg              0%[                    ]       0  --.-KB/s               \rtest.jpg            100%[===================>]  61.74K  --.-KB/s    in 0.01s   \n",
            "\n",
            "2021-07-14 13:22:48 (6.07 MB/s) - ‘test.jpg’ saved [63219/63219]\n",
            "\n"
          ],
          "name": "stdout"
        }
      ]
    },
    {
      "cell_type": "code",
      "metadata": {
        "id": "S17rew7Vqk5e",
        "colab": {
          "base_uri": "https://localhost:8080/",
          "height": 143
        },
        "outputId": "47d9def2-e2e2-4740-d3c2-ef36df33c9ff"
      },
      "source": [
        "raw = Image.open('test.jpg')\n",
        "raw = np.array(raw.resize((256, 256)))/255.\n",
        "raw = raw[:,:,0:3]\n",
        "\n",
        "#predict the mask \n",
        "pred = model.predict(np.expand_dims(raw, 0))\n",
        "\n",
        "#mask post-processing \n",
        "msk  = pred.squeeze()\n",
        "msk = np.stack((msk,)*3, axis=-1)\n",
        "msk[msk >= 0.5] = 1 \n",
        "msk[msk < 0.5] = 0 \n",
        "\n",
        "#show the mask and the segmented image \n",
        "combined = np.concatenate([raw, msk, raw* msk], axis = 1)\n",
        "plt.axis('off')\n",
        "plt.imshow(combined)\n",
        "plt.show()"
      ],
      "execution_count": null,
      "outputs": [
        {
          "output_type": "display_data",
          "data": {
            "image/png": "[encoded data removed]",
            "text/plain": [
              "<Figure size 432x288 with 1 Axes>"
            ]
          },
          "metadata": {
            "tags": [],
            "needs_background": "light"
          }
        }
      ]
    },
    {
      "cell_type": "markdown",
      "metadata": {
        "id": "OfoO80D4uYAj"
      },
      "source": [
        "# References\n",
        "\n",
        "\n",
        "1.   http://deeplearning.net/tutorial/unet.html\n",
        "2.   https://github.com/ldenoue/keras-unet\n",
        "\n"
      ]
    }
  ]
}